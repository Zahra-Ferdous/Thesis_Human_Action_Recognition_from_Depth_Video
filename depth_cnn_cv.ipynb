{
  "cells": [
    {
      "cell_type": "markdown",
      "metadata": {
        "id": "view-in-github",
        "colab_type": "text"
      },
      "source": [
        "<a href=\"https://colab.research.google.com/github/Zahra-Ferdous/Thesis_Human_Action_Recognition_from_Depth_Video/blob/main/depth_cnn_cv.ipynb\" target=\"_parent\"><img src=\"https://colab.research.google.com/assets/colab-badge.svg\" alt=\"Open In Colab\"/></a>"
      ]
    },
    {
      "cell_type": "code",
      "execution_count": null,
      "metadata": {
        "colab": {
          "base_uri": "https://localhost:8080/"
        },
        "id": "2mYZ7obCiDk5",
        "outputId": "82e0e25e-8acb-48c9-f12b-6777340c1ce6"
      },
      "outputs": [
        {
          "output_type": "stream",
          "name": "stdout",
          "text": [
            "Drive already mounted at /content/drive; to attempt to forcibly remount, call drive.mount(\"/content/drive\", force_remount=True).\n"
          ]
        }
      ],
      "source": [
        "from google.colab import drive\n",
        "drive.mount('/content/drive')"
      ]
    },
    {
      "cell_type": "code",
      "execution_count": null,
      "metadata": {
        "id": "d_I0uEStiLs6"
      },
      "outputs": [],
      "source": [
        "import numpy as np\n",
        "import pandas as pd\n",
        "import random\n",
        "import matplotlib.pyplot as plt\n",
        "import seaborn as sns\n",
        "import torch\n",
        "import torch.nn\n",
        "import math\n",
        "%matplotlib inline\n",
        "import os\n",
        "import time\n",
        "\n",
        "from numba.core.cgutils import if_likely\n",
        "#from os.path import exists\n",
        "import os.path \n",
        "\n",
        "import cv2\n",
        "import sklearn\n",
        "import scipy.io as sio\n",
        "from numba import jit\n",
        "from math import factorial, log\n",
        "from sklearn.neighbors import KDTree\n",
        "from scipy.signal import periodogram, welch\n",
        "from astropy.timeseries import LombScargle\n",
        "from scipy.io import loadmat\n",
        "import imageio\n",
        "from skimage import feature, transform, data, io\n",
        "import tensorflow as tf\n",
        "from PIL import Image\n",
        "\n",
        "from sklearn.model_selection import train_test_split\n",
        "from sklearn.metrics import classification_report, confusion_matrix\n",
        "\n",
        "\n",
        "# DEEP LEARNING IMPORTS\n",
        "from keras.models import Sequential, load_model\n",
        "from keras.layers import Dense, Conv2D, Activation, Dropout, Flatten, MaxPooling2D\n",
        "from keras.callbacks import ModelCheckpoint, EarlyStopping\n",
        "from sklearn.metrics import classification_report, confusion_matrix\n",
        "\n"
      ]
    },
    {
      "cell_type": "code",
      "execution_count": null,
      "metadata": {
        "id": "LMcu6fzeitD1"
      },
      "outputs": [],
      "source": [
        "dat = sio.loadmat('/content/drive/MyDrive/Colab Notebooks/dmm.mat')"
      ]
    },
    {
      "cell_type": "code",
      "execution_count": null,
      "metadata": {
        "id": "MEcYQ3VRi1tE"
      },
      "outputs": [],
      "source": [
        "# ------------------------------------------------ DMM ---------------------------------------------\n",
        "\n",
        "a = int( str(dat['action'][0][0][0])[1:] )\n",
        "d = {'front':dat['front'][0][0], 'side':dat['side'][0][0], 'top':dat['top'][0][0], 'action': a}\n",
        "\n",
        "ser = pd.Series(data = d, index = ['front', 'side', 'top',  'action' ])\n",
        "l_ser = [ser]\n",
        "\n",
        "for i in range(1,1165):\n",
        "  d = { 'front':dat['front'][0][i], 'side':dat['side'][0][i], 'top':dat['top'][0][i],  'action': int( str(dat['action'][0][i][0])[1:] ) }\n",
        "  #print(int( str(dat['action'][0][i][0])[1:] ))\n",
        "  ser = pd.Series(data = d, index = ['front', 'side', 'top',  'action' ])\n",
        "  l_ser.append(ser)\n",
        "\n",
        "\n",
        "cols = ['front', 'side', 'top', 'action' ]"
      ]
    },
    {
      "cell_type": "code",
      "execution_count": null,
      "metadata": {
        "colab": {
          "base_uri": "https://localhost:8080/"
        },
        "id": "_47gFc3di60S",
        "outputId": "5c26d3bb-e3e4-47d4-80b2-2427a1ac9ac1"
      },
      "outputs": [
        {
          "output_type": "stream",
          "name": "stdout",
          "text": [
            "(1165, 4)\n"
          ]
        }
      ],
      "source": [
        "df = pd.DataFrame(l_ser, columns=cols)\n",
        "print(df.shape)"
      ]
    },
    {
      "cell_type": "code",
      "source": [
        "# X = df.drop(['action'],axis = 1)\n",
        "# Y = df['action']\n",
        "# df_train, df_test, train_y, test_y = train_test_split(X, Y, random_state = 101, test_size=0.2, stratify = Y)"
      ],
      "metadata": {
        "id": "NCcRNWh7sHxh"
      },
      "execution_count": null,
      "outputs": []
    },
    {
      "cell_type": "code",
      "execution_count": null,
      "metadata": {
        "colab": {
          "base_uri": "https://localhost:8080/",
          "height": 1000
        },
        "id": "g_xvz-EBjA7Q",
        "outputId": "13741e2c-3a94-4f32-aab0-c2bd2c9e65bd"
      },
      "outputs": [
        {
          "output_type": "stream",
          "name": "stdout",
          "text": [
            "(932, 4)\n",
            "(233, 4)\n"
          ]
        },
        {
          "output_type": "display_data",
          "data": {
            "text/plain": [
              "<Figure size 432x288 with 1 Axes>"
            ],
            "image/png": "[encoded data removed]"
          },
          "metadata": {
            "needs_background": "light"
          }
        },
        {
          "output_type": "display_data",
          "data": {
            "text/plain": [
              "<Figure size 432x288 with 1 Axes>"
            ],
            "image/png": "[encoded data removed]"
          },
          "metadata": {
            "needs_background": "light"
          }
        },
        {
          "output_type": "stream",
          "name": "stdout",
          "text": [
            "(300, 300)\n"
          ]
        },
        {
          "output_type": "display_data",
          "data": {
            "text/plain": [
              "<Figure size 432x288 with 1 Axes>"
            ],
            "image/png": "[encoded data removed]"
          },
          "metadata": {
            "needs_background": "light"
          }
        },
        {
          "output_type": "display_data",
          "data": {
            "text/plain": [
              "<Figure size 432x288 with 1 Axes>"
            ],
            "image/png": "[encoded data removed]"
          },
          "metadata": {
            "needs_background": "light"
          }
        }
      ],
      "source": [
        "df_train = df.sample(frac=0.8, random_state=42)\n",
        "df_test = df.loc[~df.index.isin(df_train.index)]\n",
        "\n",
        "print(df_train.shape)\n",
        "print(df_test.shape)\n",
        "#print(df.head())\n",
        "df_train_front = np.array(df_train['front'].iloc[0][70:370,100:400])\n",
        "df_test_front = np.array(df_test['front'].iloc[0][70:370,100:400])\n",
        "\n",
        "plt.imshow(df_train_front, interpolation='nearest')\n",
        "plt.show()\n",
        "plt.imshow(df_test_front, interpolation='nearest')\n",
        "plt.show()\n",
        "\n",
        "print(df_test_front.shape)\n",
        "\n",
        "df_train_front = cv2.resize(df_train_front, dsize=(224,224))\n",
        "df_test_front = cv2.resize(df_test_front, dsize=(224,224))\n",
        "\n",
        "plt.imshow(df_train_front, interpolation='nearest')\n",
        "plt.show()\n",
        "plt.imshow(df_test_front, interpolation='nearest')\n",
        "plt.show()\n",
        "\n",
        "df_train_front1 = np.array([df_train_front])\n",
        "df_test_front1 = np.array([df_test_front])"
      ]
    },
    {
      "cell_type": "code",
      "execution_count": null,
      "metadata": {
        "colab": {
          "base_uri": "https://localhost:8080/"
        },
        "id": "AgMflcOClCd0",
        "outputId": "e4d0082e-3a75-407d-d675-ad24d5494ff1"
      },
      "outputs": [
        {
          "output_type": "stream",
          "name": "stdout",
          "text": [
            "(932, 224, 224)\n"
          ]
        }
      ],
      "source": [
        "# --------------------------------------- dmm front train --------------------------------------\n",
        "\n",
        "siz = df_train.shape[0]\n",
        "for i in range(1,siz):\n",
        "  df_train_front2 = np.array(df_train['front'].iloc[i][70:370,100:400])\n",
        "  df_train_front2 = cv2.resize(df_train_front2, dsize=(224,224))\n",
        "  df_train_front2 = np.array([df_train_front2])\n",
        "  df_train_front1 = np.concatenate((df_train_front1, df_train_front2), axis=0)\n",
        " \n",
        "\n",
        "print(df_train_front1.shape)"
      ]
    },
    {
      "cell_type": "code",
      "execution_count": null,
      "metadata": {
        "id": "8KTJ06jolbgZ",
        "colab": {
          "base_uri": "https://localhost:8080/"
        },
        "outputId": "6da2b6e0-6906-4f9b-afb8-af72136e3b9d"
      },
      "outputs": [
        {
          "output_type": "stream",
          "name": "stdout",
          "text": [
            "(233, 224, 224)\n"
          ]
        }
      ],
      "source": [
        "# --------------------------------------- dmm front test --------------------------------------\n",
        "\n",
        "siz = df_test.shape[0]\n",
        "for i in range(1,siz):\n",
        "  df_test_front2 = np.array(df_test['front'].iloc[i][70:370,100:400])\n",
        "  df_test_front2 = cv2.resize(df_test_front2, dsize=(224,224))\n",
        "  df_test_front2 = np.array([df_test_front2])\n",
        "  df_test_front1 = np.concatenate((df_test_front1, df_test_front2), axis=0)\n",
        "  #print(df_test_front1.shape)\n",
        "print(df_test_front1.shape)"
      ]
    },
    {
      "cell_type": "code",
      "execution_count": null,
      "metadata": {
        "id": "WLZ7TGZCjNGf"
      },
      "outputs": [],
      "source": [
        "def draw_confusion_matrix(true,preds):\n",
        "    conf_matx = confusion_matrix(true, preds)\n",
        "    sns.heatmap(conf_matx, annot=True,annot_kws={\"size\": 12},fmt='g', cbar=False, cmap=\"viridis\")\n",
        "    plt.show()\n",
        "\n",
        "\n",
        "def one_hot_encoder(df_name, df_column_name, suffix=''):\n",
        "    temp = pd.get_dummies(df_name[df_column_name]) #get dummies is used to create dummy columns\n",
        "    df_name = df_name.join(temp, lsuffix=suffix) #join the newly created dummy columns to original dataframe\n",
        "    df_name = df_name.drop(df_column_name, axis=1) #drop the old column used to create dummy columnss\n",
        "    return df_name"
      ]
    },
    {
      "cell_type": "code",
      "execution_count": null,
      "metadata": {
        "id": "G37umcQCjqHP",
        "colab": {
          "base_uri": "https://localhost:8080/"
        },
        "outputId": "9a180b83-9b35-48b6-9a74-3cd862abfcd3"
      },
      "outputs": [
        {
          "output_type": "stream",
          "name": "stdout",
          "text": [
            "      0   1   2   3   4   5   6   7   8   9   ...  12  13  14  15  16  17  18  \\\n",
            "1116   0   0   0   0   0   0   1   0   0   0  ...   0   0   0   0   0   0   0   \n",
            "107    0   0   0   0   0   0   0   0   0   0  ...   0   0   0   0   0   0   0   \n",
            "543    0   0   0   0   0   0   0   0   0   0  ...   0   0   0   1   0   0   0   \n",
            "900    0   0   0   0   0   0   0   0   0   0  ...   0   0   0   0   0   0   0   \n",
            "723    0   0   0   0   0   0   0   0   0   0  ...   0   0   0   0   0   0   0   \n",
            "\n",
            "      19  20  21  \n",
            "1116   0   0   0  \n",
            "107    1   0   0  \n",
            "543    0   0   0  \n",
            "900    0   0   0  \n",
            "723    0   1   0  \n",
            "\n",
            "[5 rows x 22 columns]\n",
            "(932, 224, 224, 1)\n"
          ]
        }
      ],
      "source": [
        "# -------------------------------- train dataset ----------------------------\n",
        "\n",
        "train_images_y = df_train[['action']]-1\n",
        "train_images_y.head()\n",
        "\n",
        "#do one hot encoding with the earlier created function\n",
        "train_images_y_encoded = one_hot_encoder(train_images_y, 'action', 'lab')\n",
        "print(train_images_y_encoded.head())\n",
        "\n",
        "#get the labels as an array\n",
        "train_images_y_encoded = train_images_y_encoded.values\n",
        "\n",
        "train_images_x = df_train_front1\n",
        "# train_images_array = train_images_x.values\n",
        "train_x = train_images_x.reshape(train_images_x.shape[0], 224,224 , 1)\n",
        "train_x_scaled = train_x/255\n",
        "print(train_x_scaled.shape)"
      ]
    },
    {
      "cell_type": "code",
      "execution_count": null,
      "metadata": {
        "id": "z5kYe48Fm2Eo",
        "colab": {
          "base_uri": "https://localhost:8080/"
        },
        "outputId": "886e9cf4-7c1d-4041-c694-a916965e8d8c"
      },
      "outputs": [
        {
          "output_type": "stream",
          "name": "stdout",
          "text": [
            "    0   1   2   3   4   5   6   7   8   9   ...  12  13  14  15  16  17  18  \\\n",
            "1    0   0   0   0   0   0   1   0   0   0  ...   0   0   0   0   0   0   0   \n",
            "13   0   0   0   0   0   0   1   0   0   0  ...   0   0   0   0   0   0   0   \n",
            "14   0   0   0   0   0   1   0   0   0   0  ...   0   0   0   0   0   0   0   \n",
            "20   0   0   0   0   0   1   0   0   0   0  ...   0   0   0   0   0   0   0   \n",
            "21   0   0   0   0   0   1   0   0   0   0  ...   0   0   0   0   0   0   0   \n",
            "\n",
            "    19  20  21  \n",
            "1    0   0   0  \n",
            "13   0   0   0  \n",
            "14   0   0   0  \n",
            "20   0   0   0  \n",
            "21   0   0   0  \n",
            "\n",
            "[5 rows x 22 columns]\n",
            "(233, 224, 224)\n",
            "(233, 224, 224, 1)\n"
          ]
        }
      ],
      "source": [
        "# -------------------------------- test dataset ----------------------------\n",
        "\n",
        "test_images_y = df_test[['action']] - 1\n",
        "#do one hot encoding with the earlier created function\n",
        "test_images_y_encoded = one_hot_encoder(test_images_y, 'action', 'lab')\n",
        "print(test_images_y_encoded.head())\n",
        "\n",
        "#get the labels as an array\n",
        "test_images_y_encoded = test_images_y_encoded.values\n",
        "\n",
        "test_images_x = df_test_front1\n",
        "print(test_images_x.shape)\n",
        "# train_images_array = train_images_x.values\n",
        "test_x = test_images_x.reshape(test_images_x.shape[0], 224,224, 1)\n",
        "test_x_scaled = test_x/255\n",
        "print(test_x_scaled.shape)"
      ]
    },
    {
      "cell_type": "code",
      "execution_count": null,
      "metadata": {
        "id": "fWbAA-EAIx8O"
      },
      "outputs": [],
      "source": [
        "sio.savemat('/content/drive/MyDrive/Colab Notebooks/predictions/dmm_front_train_test_224x224.mat',{'train_x': train_images_x, 'test_x': test_images_x, 'train_y':train_images_y_encoded, 'test_y': test_images_y_encoded })"
      ]
    },
    {
      "cell_type": "code",
      "execution_count": null,
      "metadata": {
        "id": "Wibfb46GTS-s",
        "colab": {
          "base_uri": "https://localhost:8080/"
        },
        "outputId": "79dee1ae-2e52-49aa-c42d-582cd166c26b"
      },
      "outputs": [
        {
          "output_type": "stream",
          "name": "stdout",
          "text": [
            "dict_keys(['__header__', '__version__', '__globals__', 'train_x', 'test_x', 'train_y', 'test_y'])\n"
          ]
        }
      ],
      "source": [
        "daf = sio.loadmat('/content/drive/MyDrive/Colab Notebooks/predictions/dmm_front_train_test_224x224.mat')\n",
        "print(daf.keys())"
      ]
    },
    {
      "cell_type": "code",
      "source": [
        "print(daf['train_y'])"
      ],
      "metadata": {
        "colab": {
          "base_uri": "https://localhost:8080/"
        },
        "id": "fOmLxwAvDDI4",
        "outputId": "3f3caa02-4b54-4bfe-9cf8-efeed5bc9131"
      },
      "execution_count": null,
      "outputs": [
        {
          "output_type": "stream",
          "name": "stdout",
          "text": [
            "[[0 0 0 ... 0 0 0]\n",
            " [0 0 0 ... 1 0 0]\n",
            " [0 0 0 ... 0 0 0]\n",
            " ...\n",
            " [0 0 0 ... 0 0 0]\n",
            " [0 0 0 ... 0 0 0]\n",
            " [1 0 0 ... 0 0 0]]\n"
          ]
        }
      ]
    },
    {
      "cell_type": "code",
      "source": [
        "train_images_x = daf['train_x']\n",
        "train_x = train_images_x.reshape(train_images_x.shape[0], 224,224, 1)\n",
        "train_x_scaled = train_x/255\n",
        "train_images_y_encoded = daf['train_y']\n",
        "\n",
        "\n",
        "\n",
        "test_images_x = daf['test_x']\n",
        "test_x = test_images_x.reshape(test_images_x.shape[0], 224,224, 1)\n",
        "test_x_scaled = test_x/255\n",
        "test_images_y_encoded = daf['test_y']\n"
      ],
      "metadata": {
        "id": "i46q1NaOBtaB"
      },
      "execution_count": null,
      "outputs": []
    },
    {
      "cell_type": "code",
      "execution_count": null,
      "metadata": {
        "id": "2UNGskhEnPrv"
      },
      "outputs": [],
      "source": [
        "# train_x, test_x, train_y, test_y = train_test_split(train_x_scaled, train_images_y_encoded, random_state = 101, \n",
        "                                                  #  test_size=0.25,stratify = train_images_y_encoded)"
      ]
    },
    {
      "cell_type": "code",
      "execution_count": null,
      "metadata": {
        "id": "T7rK7PkJnWU-"
      },
      "outputs": [],
      "source": [
        "def cnn_model(size, num_cnn_layers):\n",
        "    NUM_FILTERS = 32\n",
        "    KERNEL = (3, 3)\n",
        "    #MIN_NEURONS = 20\n",
        "    MAX_NEURONS = 200\n",
        "    \n",
        "    model = Sequential()\n",
        "    \n",
        "    for i in range(1, num_cnn_layers+1):\n",
        "        if i == 1:\n",
        "            model.add(Conv2D(NUM_FILTERS*i, KERNEL, input_shape=size, activation='relu', padding='same'))\n",
        "            model.add(MaxPooling2D(pool_size=(2,2)))\n",
        "        else:\n",
        "            model.add(Conv2D(NUM_FILTERS*i, KERNEL, activation='relu', padding='same'))\n",
        "\n",
        "\n",
        "\n",
        "    model.add(MaxPooling2D(pool_size=(2,2)))\n",
        "    model.add(Flatten())\n",
        "    model.add(Dense(int(MAX_NEURONS), activation='relu'))\n",
        "    model.add(Dropout(0.25))\n",
        "    model.add(Dense(int(MAX_NEURONS/2), activation='relu'))\n",
        "    model.add(Dense(22, activation='softmax'))\n",
        "    \n",
        "    model.compile(loss='categorical_crossentropy', optimizer='adam', metrics=['accuracy'])\n",
        "    \n",
        "    #print(model.summary())\n",
        "    \n",
        "    return model"
      ]
    },
    {
      "cell_type": "code",
      "execution_count": null,
      "metadata": {
        "id": "P086I_pXp8Ec"
      },
      "outputs": [],
      "source": [
        "IMAGE_SIZE = (224,224,1)"
      ]
    },
    {
      "cell_type": "code",
      "execution_count": null,
      "metadata": {
        "colab": {
          "base_uri": "https://localhost:8080/"
        },
        "id": "wmDFvObKpGOm",
        "outputId": "0a834a4c-98d6-434e-fa0d-a6f807e440ca"
      },
      "outputs": [
        {
          "output_type": "stream",
          "name": "stdout",
          "text": [
            "Model: \"sequential\"\n",
            "_________________________________________________________________\n",
            " Layer (type)                Output Shape              Param #   \n",
            "=================================================================\n",
            " conv2d (Conv2D)             (None, 224, 224, 32)      320       \n",
            "                                                                 \n",
            " max_pooling2d (MaxPooling2D  (None, 112, 112, 32)     0         \n",
            " )                                                               \n",
            "                                                                 \n",
            " conv2d_1 (Conv2D)           (None, 112, 112, 64)      18496     \n",
            "                                                                 \n",
            " max_pooling2d_1 (MaxPooling  (None, 56, 56, 64)       0         \n",
            " 2D)                                                             \n",
            "                                                                 \n",
            " flatten (Flatten)           (None, 200704)            0         \n",
            "                                                                 \n",
            " dense (Dense)               (None, 200)               40141000  \n",
            "                                                                 \n",
            " dropout (Dropout)           (None, 200)               0         \n",
            "                                                                 \n",
            " dense_1 (Dense)             (None, 100)               20100     \n",
            "                                                                 \n",
            " dense_2 (Dense)             (None, 22)                2222      \n",
            "                                                                 \n",
            "=================================================================\n",
            "Total params: 40,182,138\n",
            "Trainable params: 40,182,138\n",
            "Non-trainable params: 0\n",
            "_________________________________________________________________\n"
          ]
        }
      ],
      "source": [
        "model = cnn_model(IMAGE_SIZE , 2)\n",
        "model.summary()"
      ]
    },
    {
      "cell_type": "code",
      "execution_count": null,
      "metadata": {
        "id": "VpFBNO1Hp1TA"
      },
      "outputs": [],
      "source": [
        "#set early stopping criteria\n",
        "pat = 10 #this is the number of epochs with no improvment after which the training will stop\n",
        "early_stopping = EarlyStopping(monitor='val_loss', patience=pat, verbose=1)\n",
        "\n",
        "#define the model checkpoint callback -> this will keep on saving the model as a physical file\n",
        "model_checkpoint = ModelCheckpoint('dmm_cnn_1.h5', verbose=1, save_best_only=True)\n",
        "\n",
        "#define a function to fit the model\n",
        "def fit_and_evaluate(t_x, val_x, t_y, val_y, EPOCHS=10, BATCH_SIZE=128):\n",
        "    model = None\n",
        "    model = cnn_model(IMAGE_SIZE, 2)\n",
        "    results = model.fit(t_x, t_y, epochs=EPOCHS, batch_size=BATCH_SIZE, callbacks=[early_stopping, model_checkpoint], \n",
        "              verbose=1, validation_split=0.1)  \n",
        "    print(\"Val Score: \", model.evaluate(val_x, val_y))\n",
        "    return results"
      ]
    },
    {
      "cell_type": "code",
      "execution_count": null,
      "metadata": {
        "colab": {
          "base_uri": "https://localhost:8080/"
        },
        "id": "RqWXDaAKqNXN",
        "outputId": "89010983-f8e2-4d8e-a446-06cccf65a593"
      },
      "outputs": [
        {
          "output_type": "stream",
          "name": "stdout",
          "text": [
            "Training on Fold:  1\n",
            "Epoch 1/10\n",
            "6/6 [==============================] - ETA: 0s - loss: 12.0705 - accuracy: 0.0769\n",
            "Epoch 1: val_loss improved from inf to 3.02749, saving model to dmm_cnn_1.h5\n",
            "6/6 [==============================] - 59s 9s/step - loss: 12.0705 - accuracy: 0.0769 - val_loss: 3.0275 - val_accuracy: 0.1786\n",
            "Epoch 2/10\n",
            "6/6 [==============================] - ETA: 0s - loss: 3.1278 - accuracy: 0.1366\n",
            "Epoch 2: val_loss improved from 3.02749 to 2.85279, saving model to dmm_cnn_1.h5\n",
            "6/6 [==============================] - 53s 9s/step - loss: 3.1278 - accuracy: 0.1366 - val_loss: 2.8528 - val_accuracy: 0.2262\n",
            "Epoch 3/10\n",
            "6/6 [==============================] - ETA: 0s - loss: 2.8789 - accuracy: 0.2109\n",
            "Epoch 3: val_loss improved from 2.85279 to 2.84168, saving model to dmm_cnn_1.h5\n",
            "6/6 [==============================] - 57s 10s/step - loss: 2.8789 - accuracy: 0.2109 - val_loss: 2.8417 - val_accuracy: 0.2381\n",
            "Epoch 4/10\n",
            "6/6 [==============================] - ETA: 0s - loss: 2.7323 - accuracy: 0.2573\n",
            "Epoch 4: val_loss improved from 2.84168 to 2.57175, saving model to dmm_cnn_1.h5\n",
            "6/6 [==============================] - 57s 10s/step - loss: 2.7323 - accuracy: 0.2573 - val_loss: 2.5717 - val_accuracy: 0.3452\n",
            "Epoch 5/10\n",
            "6/6 [==============================] - ETA: 0s - loss: 2.3473 - accuracy: 0.3475\n",
            "Epoch 5: val_loss improved from 2.57175 to 2.08413, saving model to dmm_cnn_1.h5\n",
            "6/6 [==============================] - 58s 9s/step - loss: 2.3473 - accuracy: 0.3475 - val_loss: 2.0841 - val_accuracy: 0.3810\n",
            "Epoch 6/10\n",
            "6/6 [==============================] - ETA: 0s - loss: 1.8618 - accuracy: 0.4443\n",
            "Epoch 6: val_loss improved from 2.08413 to 1.72126, saving model to dmm_cnn_1.h5\n",
            "6/6 [==============================] - 57s 10s/step - loss: 1.8618 - accuracy: 0.4443 - val_loss: 1.7213 - val_accuracy: 0.4762\n",
            "Epoch 7/10\n",
            "6/6 [==============================] - ETA: 0s - loss: 1.3730 - accuracy: 0.5756\n",
            "Epoch 7: val_loss improved from 1.72126 to 1.36550, saving model to dmm_cnn_1.h5\n",
            "6/6 [==============================] - 52s 9s/step - loss: 1.3730 - accuracy: 0.5756 - val_loss: 1.3655 - val_accuracy: 0.5357\n",
            "Epoch 8/10\n",
            "6/6 [==============================] - ETA: 0s - loss: 1.0425 - accuracy: 0.6671\n",
            "Epoch 8: val_loss improved from 1.36550 to 0.99766, saving model to dmm_cnn_1.h5\n",
            "6/6 [==============================] - 52s 9s/step - loss: 1.0425 - accuracy: 0.6671 - val_loss: 0.9977 - val_accuracy: 0.7143\n",
            "Epoch 9/10\n",
            "6/6 [==============================] - ETA: 0s - loss: 0.7395 - accuracy: 0.7666\n",
            "Epoch 9: val_loss improved from 0.99766 to 0.91643, saving model to dmm_cnn_1.h5\n",
            "6/6 [==============================] - 59s 10s/step - loss: 0.7395 - accuracy: 0.7666 - val_loss: 0.9164 - val_accuracy: 0.7619\n",
            "Epoch 10/10\n",
            "6/6 [==============================] - ETA: 0s - loss: 0.5084 - accuracy: 0.8408\n",
            "Epoch 10: val_loss improved from 0.91643 to 0.86007, saving model to dmm_cnn_1.h5\n",
            "6/6 [==============================] - 54s 9s/step - loss: 0.5084 - accuracy: 0.8408 - val_loss: 0.8601 - val_accuracy: 0.7738\n",
            "3/3 [==============================] - 2s 523ms/step - loss: 0.6590 - accuracy: 0.7979\n",
            "Val Score:  [0.6590411067008972, 0.7978723645210266]\n",
            "====================================================================================\n",
            "\n",
            "\n",
            "Training on Fold:  2\n",
            "Epoch 1/10\n",
            "6/6 [==============================] - ETA: 0s - loss: 13.3782 - accuracy: 0.0610 \n",
            "Epoch 1: val_loss did not improve from 0.86007\n",
            "6/6 [==============================] - 59s 10s/step - loss: 13.3782 - accuracy: 0.0610 - val_loss: 3.2790 - val_accuracy: 0.1310\n",
            "Epoch 2/10\n",
            "6/6 [==============================] - ETA: 0s - loss: 3.2978 - accuracy: 0.1021\n",
            "Epoch 2: val_loss did not improve from 0.86007\n",
            "6/6 [==============================] - 50s 8s/step - loss: 3.2978 - accuracy: 0.1021 - val_loss: 2.8727 - val_accuracy: 0.2857\n",
            "Epoch 3/10\n",
            "6/6 [==============================] - ETA: 0s - loss: 2.8367 - accuracy: 0.2268\n",
            "Epoch 3: val_loss did not improve from 0.86007\n",
            "6/6 [==============================] - 50s 8s/step - loss: 2.8367 - accuracy: 0.2268 - val_loss: 2.8564 - val_accuracy: 0.3095\n",
            "Epoch 4/10\n",
            "6/6 [==============================] - ETA: 0s - loss: 2.7774 - accuracy: 0.2679 \n",
            "Epoch 4: val_loss did not improve from 0.86007\n",
            "6/6 [==============================] - 58s 10s/step - loss: 2.7774 - accuracy: 0.2679 - val_loss: 2.7040 - val_accuracy: 0.2976\n",
            "Epoch 5/10\n",
            "6/6 [==============================] - ETA: 0s - loss: 2.5578 - accuracy: 0.2984\n",
            "Epoch 5: val_loss did not improve from 0.86007\n",
            "6/6 [==============================] - 50s 8s/step - loss: 2.5578 - accuracy: 0.2984 - val_loss: 2.3399 - val_accuracy: 0.3690\n",
            "Epoch 6/10\n",
            "6/6 [==============================] - ETA: 0s - loss: 2.1278 - accuracy: 0.4138 \n",
            "Epoch 6: val_loss did not improve from 0.86007\n",
            "6/6 [==============================] - 57s 10s/step - loss: 2.1278 - accuracy: 0.4138 - val_loss: 1.9433 - val_accuracy: 0.4643\n",
            "Epoch 7/10\n",
            "6/6 [==============================] - ETA: 0s - loss: 1.7511 - accuracy: 0.5080\n",
            "Epoch 7: val_loss did not improve from 0.86007\n",
            "6/6 [==============================] - 52s 9s/step - loss: 1.7511 - accuracy: 0.5080 - val_loss: 1.5243 - val_accuracy: 0.5714\n",
            "Epoch 8/10\n",
            "6/6 [==============================] - ETA: 0s - loss: 1.3545 - accuracy: 0.6061\n",
            "Epoch 8: val_loss did not improve from 0.86007\n",
            "6/6 [==============================] - 52s 9s/step - loss: 1.3545 - accuracy: 0.6061 - val_loss: 1.2639 - val_accuracy: 0.6190\n",
            "Epoch 9/10\n",
            "6/6 [==============================] - ETA: 0s - loss: 1.0505 - accuracy: 0.6883\n",
            "Epoch 9: val_loss did not improve from 0.86007\n",
            "6/6 [==============================] - 54s 9s/step - loss: 1.0505 - accuracy: 0.6883 - val_loss: 1.0073 - val_accuracy: 0.7500\n",
            "Epoch 10/10\n",
            "6/6 [==============================] - ETA: 0s - loss: 0.7967 - accuracy: 0.7493\n",
            "Epoch 10: val_loss improved from 0.86007 to 0.76742, saving model to dmm_cnn_1.h5\n",
            "6/6 [==============================] - 51s 9s/step - loss: 0.7967 - accuracy: 0.7493 - val_loss: 0.7674 - val_accuracy: 0.7738\n",
            "3/3 [==============================] - 2s 522ms/step - loss: 0.6550 - accuracy: 0.8085\n",
            "Val Score:  [0.6549705862998962, 0.8085106611251831]\n",
            "====================================================================================\n",
            "\n",
            "\n",
            "Training on Fold:  3\n",
            "Epoch 1/10\n",
            "6/6 [==============================] - ETA: 0s - loss: 11.3654 - accuracy: 0.0942\n",
            "Epoch 1: val_loss did not improve from 0.76742\n",
            "6/6 [==============================] - 55s 9s/step - loss: 11.3654 - accuracy: 0.0942 - val_loss: 3.2502 - val_accuracy: 0.2024\n",
            "Epoch 2/10\n",
            "6/6 [==============================] - ETA: 0s - loss: 3.1454 - accuracy: 0.1910\n",
            "Epoch 2: val_loss did not improve from 0.76742\n",
            "6/6 [==============================] - 52s 9s/step - loss: 3.1454 - accuracy: 0.1910 - val_loss: 2.8875 - val_accuracy: 0.2976\n",
            "Epoch 3/10\n",
            "6/6 [==============================] - ETA: 0s - loss: 2.8412 - accuracy: 0.2958\n",
            "Epoch 3: val_loss did not improve from 0.76742\n",
            "6/6 [==============================] - 58s 10s/step - loss: 2.8412 - accuracy: 0.2958 - val_loss: 2.8740 - val_accuracy: 0.2976\n",
            "Epoch 4/10\n",
            "6/6 [==============================] - ETA: 0s - loss: 2.7247 - accuracy: 0.3660\n",
            "Epoch 4: val_loss did not improve from 0.76742\n",
            "6/6 [==============================] - 56s 9s/step - loss: 2.7247 - accuracy: 0.3660 - val_loss: 2.6939 - val_accuracy: 0.3333\n",
            "Epoch 5/10\n",
            "6/6 [==============================] - ETA: 0s - loss: 2.3362 - accuracy: 0.3939\n",
            "Epoch 5: val_loss did not improve from 0.76742\n",
            "6/6 [==============================] - 53s 9s/step - loss: 2.3362 - accuracy: 0.3939 - val_loss: 2.0963 - val_accuracy: 0.4286\n",
            "Epoch 6/10\n",
            "6/6 [==============================] - ETA: 0s - loss: 1.7119 - accuracy: 0.5292\n",
            "Epoch 6: val_loss did not improve from 0.76742\n",
            "6/6 [==============================] - 52s 9s/step - loss: 1.7119 - accuracy: 0.5292 - val_loss: 1.5693 - val_accuracy: 0.5238\n",
            "Epoch 7/10\n",
            "6/6 [==============================] - ETA: 0s - loss: 1.1755 - accuracy: 0.6645\n",
            "Epoch 7: val_loss did not improve from 0.76742\n",
            "6/6 [==============================] - 53s 9s/step - loss: 1.1755 - accuracy: 0.6645 - val_loss: 1.2017 - val_accuracy: 0.6786\n",
            "Epoch 8/10\n",
            "6/6 [==============================] - ETA: 0s - loss: 0.7730 - accuracy: 0.7918\n",
            "Epoch 8: val_loss did not improve from 0.76742\n",
            "6/6 [==============================] - 54s 9s/step - loss: 0.7730 - accuracy: 0.7918 - val_loss: 0.9911 - val_accuracy: 0.7024\n",
            "Epoch 9/10\n",
            "6/6 [==============================] - ETA: 0s - loss: 0.4451 - accuracy: 0.8660\n",
            "Epoch 9: val_loss improved from 0.76742 to 0.74204, saving model to dmm_cnn_1.h5\n",
            "6/6 [==============================] - 55s 9s/step - loss: 0.4451 - accuracy: 0.8660 - val_loss: 0.7420 - val_accuracy: 0.8214\n",
            "Epoch 10/10\n",
            "6/6 [==============================] - ETA: 0s - loss: 0.3221 - accuracy: 0.9045\n",
            "Epoch 10: val_loss improved from 0.74204 to 0.71765, saving model to dmm_cnn_1.h5\n",
            "6/6 [==============================] - 61s 9s/step - loss: 0.3221 - accuracy: 0.9045 - val_loss: 0.7177 - val_accuracy: 0.7738\n",
            "3/3 [==============================] - 2s 558ms/step - loss: 0.5750 - accuracy: 0.8191\n",
            "Val Score:  [0.5749723315238953, 0.8191489577293396]\n",
            "====================================================================================\n",
            "\n",
            "\n"
          ]
        }
      ],
      "source": [
        "n_folds=3\n",
        "epochs=10\n",
        "batch_size=128\n",
        "\n",
        "#save the model history in a list after fitting so that we can plot later\n",
        "model_history = [] \n",
        "\n",
        "for i in range(n_folds):\n",
        "    print(\"Training on Fold: \",i+1)\n",
        "    t_x, val_x, t_y, val_y = train_test_split(train_x_scaled, train_images_y_encoded, test_size=0.1, \n",
        "                                               random_state = 42 , stratify = train_images_y_encoded )\n",
        "    model_history.append(fit_and_evaluate(t_x, val_x, t_y, val_y, epochs, batch_size))\n",
        "    print(\"=======\"*12, end=\"\\n\\n\\n\")\n",
        "\n",
        "\n",
        "  #np.random.randint(1,1000, 1)[0]"
      ]
    },
    {
      "cell_type": "code",
      "execution_count": null,
      "metadata": {
        "colab": {
          "base_uri": "https://localhost:8080/",
          "height": 281
        },
        "id": "wt00GLQ19tTp",
        "outputId": "dcbe8c30-a56e-4440-ce14-fcc17a20ef94"
      },
      "outputs": [
        {
          "output_type": "display_data",
          "data": {
            "text/plain": [
              "<Figure size 432x288 with 1 Axes>"
            ],
            "image/png": "[encoded data removed]"
          },
          "metadata": {
            "needs_background": "light"
          }
        }
      ],
      "source": [
        "plt.title('Accuracies vs Epochs')\n",
        "plt.plot(model_history[0].history['accuracy'], label='Training Fold 1')\n",
        "plt.plot(model_history[1].history['accuracy'], label='Training Fold 2')\n",
        "plt.plot(model_history[2].history['accuracy'], label='Training Fold 3')\n",
        "plt.legend()\n",
        "plt.show()\n"
      ]
    },
    {
      "cell_type": "code",
      "execution_count": null,
      "metadata": {
        "id": "BJVi-qJD95Vt"
      },
      "outputs": [],
      "source": [
        "plt.title('Train Accuracy vs Val Accuracy')\n",
        "plt.plot(model_history[0].history['accuracy'], label='Train Accuracy Fold 1', color='black')\n",
        "plt.plot(model_history[0].history['val_accuracy'], label='Val Accuracy Fold 1', color='black', linestyle = \"dashdot\")\n",
        "plt.plot(model_history[1].history['accuracy'], label='Train Accuracy Fold 2', color='red', )\n",
        "plt.plot(model_history[1].history['val_accuracy'], label='Val Accuracy Fold 2', color='red', linestyle = \"dashdot\")\n",
        "plt.plot(model_history[2].history['accuracy'], label='Train Accuracy Fold 3', color='green', )\n",
        "plt.plot(model_history[2].history['val_accuracy'], label='Val Accuracy Fold 3', color='green', linestyle = \"dashdot\")\n",
        "plt.legend()\n",
        "plt.show()\n"
      ]
    },
    {
      "cell_type": "code",
      "execution_count": null,
      "metadata": {
        "id": "0sXvyJVA9_Bm"
      },
      "outputs": [],
      "source": [
        "#Load the model that was saved by ModelCheckpoint\n",
        "model = load_model('dmm_cnn_1.h5')"
      ]
    },
    {
      "cell_type": "code",
      "execution_count": null,
      "metadata": {
        "colab": {
          "base_uri": "https://localhost:8080/"
        },
        "id": "2Qj8ppc8-4zG",
        "outputId": "41aae5ad-21aa-4933-aeb3-05f59c532018"
      },
      "outputs": [
        {
          "output_type": "stream",
          "name": "stdout",
          "text": [
            "3/3 [==============================] - 2s 530ms/step - loss: 0.5750 - accuracy: 0.8191\n"
          ]
        },
        {
          "output_type": "execute_result",
          "data": {
            "text/plain": [
              "[0.5749723315238953, 0.8191489577293396]"
            ]
          },
          "metadata": {},
          "execution_count": 44
        }
      ],
      "source": [
        "model.evaluate(val_x, val_y)"
      ]
    },
    {
      "cell_type": "code",
      "execution_count": null,
      "metadata": {
        "colab": {
          "base_uri": "https://localhost:8080/"
        },
        "id": "PkHXch6p_BeN",
        "outputId": "0949f7a2-9941-4138-f692-66e446d45638"
      },
      "outputs": [
        {
          "output_type": "stream",
          "name": "stdout",
          "text": [
            "8/8 [==============================] - 4s 517ms/step - loss: 0.8121 - accuracy: 0.8069\n"
          ]
        },
        {
          "output_type": "execute_result",
          "data": {
            "text/plain": [
              "[0.812087893486023, 0.8068669438362122]"
            ]
          },
          "metadata": {},
          "execution_count": 43
        }
      ],
      "source": [
        "model.evaluate(test_x_scaled, test_images_y_encoded)"
      ]
    },
    {
      "cell_type": "code",
      "execution_count": null,
      "metadata": {
        "id": "Rltrsmb6_FA0"
      },
      "outputs": [],
      "source": [
        "#function for converting predictions to labels\n",
        "def prep_submissions(preds_array, file_name='abc.csv'):\n",
        "    preds_df = pd.DataFrame(preds_array)\n",
        "    predicted_labels = preds_df.idxmax(axis=1) #convert back one hot encoding to categorical variabless\n",
        "    #return predicted_labels\n",
        "    \n",
        "    ### prepare submissions in case you need to submit\n",
        "    #submission = pd.read_csv(\"test.csv\")\n",
        "    #submission['label'] = predicted_labels\n",
        "    predicted_labels.to_csv(file_name, index=False)\n",
        "    print(pd.read_csv(file_name).head())\n",
        "    "
      ]
    },
    {
      "cell_type": "code",
      "execution_count": null,
      "metadata": {
        "colab": {
          "base_uri": "https://localhost:8080/"
        },
        "id": "day_f7bfAcDc",
        "outputId": "664e7683-11d0-4cd1-b5ed-95029a3b5c18"
      },
      "outputs": [
        {
          "output_type": "stream",
          "name": "stdout",
          "text": [
            "8/8 [==============================] - 4s 503ms/step\n",
            "    0\n",
            "0  20\n",
            "1   6\n",
            "2   5\n",
            "3   5\n",
            "4   5\n"
          ]
        }
      ],
      "source": [
        "test_preds = model.predict(test_x_scaled)\n",
        "test_preds_labels = prep_submissions(test_preds)"
      ]
    },
    {
      "cell_type": "code",
      "execution_count": null,
      "metadata": {
        "colab": {
          "base_uri": "https://localhost:8080/"
        },
        "id": "QBRzu74U9n3N",
        "outputId": "3ec33c2a-4259-4d38-fbad-658fbe91e519"
      },
      "outputs": [
        {
          "output_type": "stream",
          "name": "stdout",
          "text": [
            "    0\n",
            "0  20\n",
            "1   6\n",
            "2   5\n",
            "3   5\n",
            "4   5\n"
          ]
        }
      ],
      "source": [
        "prep_submissions(test_preds, '/content/drive/MyDrive/Colab Notebooks/predictions/front_dmm.csv')"
      ]
    },
    {
      "cell_type": "code",
      "source": [
        "model.save('/content/drive/MyDrive/Colab Notebooks/predictions/dmm_3foldcv_10dec_7_44_pm_test_acc_80_test_loss_81')"
      ],
      "metadata": {
        "colab": {
          "base_uri": "https://localhost:8080/"
        },
        "id": "Za9UtDHyRiPL",
        "outputId": "c74eaf4b-deb4-4874-c232-c39f6091b849"
      },
      "execution_count": null,
      "outputs": [
        {
          "output_type": "stream",
          "name": "stderr",
          "text": [
            "WARNING:absl:Found untraced functions such as _jit_compiled_convolution_op, _jit_compiled_convolution_op while saving (showing 2 of 2). These functions will not be directly callable after loading.\n"
          ]
        }
      ]
    },
    {
      "cell_type": "code",
      "source": [
        "model.save('dmm_3foldcv_10dec_7_44_pm_test_acc_80_test_loss_81')"
      ],
      "metadata": {
        "colab": {
          "base_uri": "https://localhost:8080/"
        },
        "id": "IZVYdmZDSW_a",
        "outputId": "eb95b82c-25f4-43c2-8675-a978c0c20845"
      },
      "execution_count": null,
      "outputs": [
        {
          "output_type": "stream",
          "name": "stderr",
          "text": [
            "WARNING:absl:Found untraced functions such as _jit_compiled_convolution_op, _jit_compiled_convolution_op while saving (showing 2 of 2). These functions will not be directly callable after loading.\n"
          ]
        }
      ]
    },
    {
      "cell_type": "code",
      "execution_count": null,
      "metadata": {
        "colab": {
          "base_uri": "https://localhost:8080/",
          "height": 312
        },
        "id": "xMLkElRxAjgo",
        "outputId": "efe1724f-2dd6-4095-9dda-22bcebd23fc8"
      },
      "outputs": [
        {
          "output_type": "error",
          "ename": "ValueError",
          "evalue": "ignored",
          "traceback": [
            "\u001b[0;31m---------------------------------------------------------------------------\u001b[0m",
            "\u001b[0;31mValueError\u001b[0m                                Traceback (most recent call last)",
            "\u001b[0;32m<ipython-input-52-3722e7808b4c>\u001b[0m in \u001b[0;36m<module>\u001b[0;34m\u001b[0m\n\u001b[0;32m----> 1\u001b[0;31m \u001b[0mprint\u001b[0m\u001b[0;34m(\u001b[0m\u001b[0mclassification_report\u001b[0m\u001b[0;34m(\u001b[0m\u001b[0mtest_x_scaled\u001b[0m\u001b[0;34m,\u001b[0m \u001b[0mtest_preds\u001b[0m\u001b[0;34m)\u001b[0m\u001b[0;34m)\u001b[0m\u001b[0;34m\u001b[0m\u001b[0;34m\u001b[0m\u001b[0m\n\u001b[0m",
            "\u001b[0;32m/usr/local/lib/python3.8/dist-packages/sklearn/metrics/_classification.py\u001b[0m in \u001b[0;36mclassification_report\u001b[0;34m(y_true, y_pred, labels, target_names, sample_weight, digits, output_dict, zero_division)\u001b[0m\n\u001b[1;32m   2108\u001b[0m     \"\"\"\n\u001b[1;32m   2109\u001b[0m \u001b[0;34m\u001b[0m\u001b[0m\n\u001b[0;32m-> 2110\u001b[0;31m     \u001b[0my_type\u001b[0m\u001b[0;34m,\u001b[0m \u001b[0my_true\u001b[0m\u001b[0;34m,\u001b[0m \u001b[0my_pred\u001b[0m \u001b[0;34m=\u001b[0m \u001b[0m_check_targets\u001b[0m\u001b[0;34m(\u001b[0m\u001b[0my_true\u001b[0m\u001b[0;34m,\u001b[0m \u001b[0my_pred\u001b[0m\u001b[0;34m)\u001b[0m\u001b[0;34m\u001b[0m\u001b[0;34m\u001b[0m\u001b[0m\n\u001b[0m\u001b[1;32m   2111\u001b[0m \u001b[0;34m\u001b[0m\u001b[0m\n\u001b[1;32m   2112\u001b[0m     \u001b[0;32mif\u001b[0m \u001b[0mlabels\u001b[0m \u001b[0;32mis\u001b[0m \u001b[0;32mNone\u001b[0m\u001b[0;34m:\u001b[0m\u001b[0;34m\u001b[0m\u001b[0;34m\u001b[0m\u001b[0m\n",
            "\u001b[0;32m/usr/local/lib/python3.8/dist-packages/sklearn/metrics/_classification.py\u001b[0m in \u001b[0;36m_check_targets\u001b[0;34m(y_true, y_pred)\u001b[0m\n\u001b[1;32m     91\u001b[0m \u001b[0;34m\u001b[0m\u001b[0m\n\u001b[1;32m     92\u001b[0m     \u001b[0;32mif\u001b[0m \u001b[0mlen\u001b[0m\u001b[0;34m(\u001b[0m\u001b[0my_type\u001b[0m\u001b[0;34m)\u001b[0m \u001b[0;34m>\u001b[0m \u001b[0;36m1\u001b[0m\u001b[0;34m:\u001b[0m\u001b[0;34m\u001b[0m\u001b[0;34m\u001b[0m\u001b[0m\n\u001b[0;32m---> 93\u001b[0;31m         raise ValueError(\n\u001b[0m\u001b[1;32m     94\u001b[0m             \"Classification metrics can't handle a mix of {0} and {1} targets\".format(\n\u001b[1;32m     95\u001b[0m                 \u001b[0mtype_true\u001b[0m\u001b[0;34m,\u001b[0m \u001b[0mtype_pred\u001b[0m\u001b[0;34m\u001b[0m\u001b[0;34m\u001b[0m\u001b[0m\n",
            "\u001b[0;31mValueError\u001b[0m: Classification metrics can't handle a mix of unknown and continuous-multioutput targets"
          ]
        }
      ],
      "source": [
        "print(classification_report(test_x_scaled, test_preds))"
      ]
    },
    {
      "cell_type": "code",
      "execution_count": null,
      "metadata": {
        "id": "m8Gnt0tCAonS",
        "colab": {
          "base_uri": "https://localhost:8080/",
          "height": 312
        },
        "outputId": "25ef148d-c5da-4289-8cce-32efe4743480"
      },
      "outputs": [
        {
          "output_type": "error",
          "ename": "ValueError",
          "evalue": "ignored",
          "traceback": [
            "\u001b[0;31m---------------------------------------------------------------------------\u001b[0m",
            "\u001b[0;31mValueError\u001b[0m                                Traceback (most recent call last)",
            "\u001b[0;32m<ipython-input-50-6208b6e3a044>\u001b[0m in \u001b[0;36m<module>\u001b[0;34m\u001b[0m\n\u001b[0;32m----> 1\u001b[0;31m \u001b[0mdraw_confusion_matrix\u001b[0m\u001b[0;34m(\u001b[0m\u001b[0mtest_images_y\u001b[0m\u001b[0;34m,\u001b[0m \u001b[0mtest_preds_labels\u001b[0m\u001b[0;34m)\u001b[0m\u001b[0;34m\u001b[0m\u001b[0;34m\u001b[0m\u001b[0m\n\u001b[0m",
            "\u001b[0;32m<ipython-input-6-30b25f515c76>\u001b[0m in \u001b[0;36mdraw_confusion_matrix\u001b[0;34m(true, preds)\u001b[0m\n\u001b[1;32m      1\u001b[0m \u001b[0;32mdef\u001b[0m \u001b[0mdraw_confusion_matrix\u001b[0m\u001b[0;34m(\u001b[0m\u001b[0mtrue\u001b[0m\u001b[0;34m,\u001b[0m\u001b[0mpreds\u001b[0m\u001b[0;34m)\u001b[0m\u001b[0;34m:\u001b[0m\u001b[0;34m\u001b[0m\u001b[0;34m\u001b[0m\u001b[0m\n\u001b[0;32m----> 2\u001b[0;31m     \u001b[0mconf_matx\u001b[0m \u001b[0;34m=\u001b[0m \u001b[0mconfusion_matrix\u001b[0m\u001b[0;34m(\u001b[0m\u001b[0mtrue\u001b[0m\u001b[0;34m,\u001b[0m \u001b[0mpreds\u001b[0m\u001b[0;34m)\u001b[0m\u001b[0;34m\u001b[0m\u001b[0;34m\u001b[0m\u001b[0m\n\u001b[0m\u001b[1;32m      3\u001b[0m     \u001b[0msns\u001b[0m\u001b[0;34m.\u001b[0m\u001b[0mheatmap\u001b[0m\u001b[0;34m(\u001b[0m\u001b[0mconf_matx\u001b[0m\u001b[0;34m,\u001b[0m \u001b[0mannot\u001b[0m\u001b[0;34m=\u001b[0m\u001b[0;32mTrue\u001b[0m\u001b[0;34m,\u001b[0m\u001b[0mannot_kws\u001b[0m\u001b[0;34m=\u001b[0m\u001b[0;34m{\u001b[0m\u001b[0;34m\"size\"\u001b[0m\u001b[0;34m:\u001b[0m \u001b[0;36m12\u001b[0m\u001b[0;34m}\u001b[0m\u001b[0;34m,\u001b[0m\u001b[0mfmt\u001b[0m\u001b[0;34m=\u001b[0m\u001b[0;34m'g'\u001b[0m\u001b[0;34m,\u001b[0m \u001b[0mcbar\u001b[0m\u001b[0;34m=\u001b[0m\u001b[0;32mFalse\u001b[0m\u001b[0;34m,\u001b[0m \u001b[0mcmap\u001b[0m\u001b[0;34m=\u001b[0m\u001b[0;34m\"viridis\"\u001b[0m\u001b[0;34m)\u001b[0m\u001b[0;34m\u001b[0m\u001b[0;34m\u001b[0m\u001b[0m\n\u001b[1;32m      4\u001b[0m     \u001b[0mplt\u001b[0m\u001b[0;34m.\u001b[0m\u001b[0mshow\u001b[0m\u001b[0;34m(\u001b[0m\u001b[0;34m)\u001b[0m\u001b[0;34m\u001b[0m\u001b[0;34m\u001b[0m\u001b[0m\n\u001b[1;32m      5\u001b[0m \u001b[0;34m\u001b[0m\u001b[0m\n",
            "\u001b[0;32m/usr/local/lib/python3.8/dist-packages/sklearn/metrics/_classification.py\u001b[0m in \u001b[0;36mconfusion_matrix\u001b[0;34m(y_true, y_pred, labels, sample_weight, normalize)\u001b[0m\n\u001b[1;32m    305\u001b[0m     \u001b[0;34m(\u001b[0m\u001b[0;36m0\u001b[0m\u001b[0;34m,\u001b[0m \u001b[0;36m2\u001b[0m\u001b[0;34m,\u001b[0m \u001b[0;36m1\u001b[0m\u001b[0;34m,\u001b[0m \u001b[0;36m1\u001b[0m\u001b[0;34m)\u001b[0m\u001b[0;34m\u001b[0m\u001b[0;34m\u001b[0m\u001b[0m\n\u001b[1;32m    306\u001b[0m     \"\"\"\n\u001b[0;32m--> 307\u001b[0;31m     \u001b[0my_type\u001b[0m\u001b[0;34m,\u001b[0m \u001b[0my_true\u001b[0m\u001b[0;34m,\u001b[0m \u001b[0my_pred\u001b[0m \u001b[0;34m=\u001b[0m \u001b[0m_check_targets\u001b[0m\u001b[0;34m(\u001b[0m\u001b[0my_true\u001b[0m\u001b[0;34m,\u001b[0m \u001b[0my_pred\u001b[0m\u001b[0;34m)\u001b[0m\u001b[0;34m\u001b[0m\u001b[0;34m\u001b[0m\u001b[0m\n\u001b[0m\u001b[1;32m    308\u001b[0m     \u001b[0;32mif\u001b[0m \u001b[0my_type\u001b[0m \u001b[0;32mnot\u001b[0m \u001b[0;32min\u001b[0m \u001b[0;34m(\u001b[0m\u001b[0;34m\"binary\"\u001b[0m\u001b[0;34m,\u001b[0m \u001b[0;34m\"multiclass\"\u001b[0m\u001b[0;34m)\u001b[0m\u001b[0;34m:\u001b[0m\u001b[0;34m\u001b[0m\u001b[0;34m\u001b[0m\u001b[0m\n\u001b[1;32m    309\u001b[0m         \u001b[0;32mraise\u001b[0m \u001b[0mValueError\u001b[0m\u001b[0;34m(\u001b[0m\u001b[0;34m\"%s is not supported\"\u001b[0m \u001b[0;34m%\u001b[0m \u001b[0my_type\u001b[0m\u001b[0;34m)\u001b[0m\u001b[0;34m\u001b[0m\u001b[0;34m\u001b[0m\u001b[0m\n",
            "\u001b[0;32m/usr/local/lib/python3.8/dist-packages/sklearn/metrics/_classification.py\u001b[0m in \u001b[0;36m_check_targets\u001b[0;34m(y_true, y_pred)\u001b[0m\n\u001b[1;32m     84\u001b[0m     \u001b[0mcheck_consistent_length\u001b[0m\u001b[0;34m(\u001b[0m\u001b[0my_true\u001b[0m\u001b[0;34m,\u001b[0m \u001b[0my_pred\u001b[0m\u001b[0;34m)\u001b[0m\u001b[0;34m\u001b[0m\u001b[0;34m\u001b[0m\u001b[0m\n\u001b[1;32m     85\u001b[0m     \u001b[0mtype_true\u001b[0m \u001b[0;34m=\u001b[0m \u001b[0mtype_of_target\u001b[0m\u001b[0;34m(\u001b[0m\u001b[0my_true\u001b[0m\u001b[0;34m)\u001b[0m\u001b[0;34m\u001b[0m\u001b[0;34m\u001b[0m\u001b[0m\n\u001b[0;32m---> 86\u001b[0;31m     \u001b[0mtype_pred\u001b[0m \u001b[0;34m=\u001b[0m \u001b[0mtype_of_target\u001b[0m\u001b[0;34m(\u001b[0m\u001b[0my_pred\u001b[0m\u001b[0;34m)\u001b[0m\u001b[0;34m\u001b[0m\u001b[0;34m\u001b[0m\u001b[0m\n\u001b[0m\u001b[1;32m     87\u001b[0m \u001b[0;34m\u001b[0m\u001b[0m\n\u001b[1;32m     88\u001b[0m     \u001b[0my_type\u001b[0m \u001b[0;34m=\u001b[0m \u001b[0;34m{\u001b[0m\u001b[0mtype_true\u001b[0m\u001b[0;34m,\u001b[0m \u001b[0mtype_pred\u001b[0m\u001b[0;34m}\u001b[0m\u001b[0;34m\u001b[0m\u001b[0;34m\u001b[0m\u001b[0m\n",
            "\u001b[0;32m/usr/local/lib/python3.8/dist-packages/sklearn/utils/multiclass.py\u001b[0m in \u001b[0;36mtype_of_target\u001b[0;34m(y)\u001b[0m\n\u001b[1;32m    268\u001b[0m \u001b[0;34m\u001b[0m\u001b[0m\n\u001b[1;32m    269\u001b[0m     \u001b[0;32mif\u001b[0m \u001b[0;32mnot\u001b[0m \u001b[0mvalid\u001b[0m\u001b[0;34m:\u001b[0m\u001b[0;34m\u001b[0m\u001b[0;34m\u001b[0m\u001b[0m\n\u001b[0;32m--> 270\u001b[0;31m         raise ValueError(\n\u001b[0m\u001b[1;32m    271\u001b[0m             \u001b[0;34m\"Expected array-like (array or non-string sequence), got %r\"\u001b[0m \u001b[0;34m%\u001b[0m \u001b[0my\u001b[0m\u001b[0;34m\u001b[0m\u001b[0;34m\u001b[0m\u001b[0m\n\u001b[1;32m    272\u001b[0m         )\n",
            "\u001b[0;31mValueError\u001b[0m: Expected array-like (array or non-string sequence), got None"
          ]
        }
      ],
      "source": [
        "draw_confusion_matrix(test_x_scaled, test_preds_labels)"
      ]
    }
  ],
  "metadata": {
    "colab": {
      "provenance": [],
      "authorship_tag": "ABX9TyMQro8L3HtfRLrzur55Kzce",
      "include_colab_link": true
    },
    "kernelspec": {
      "display_name": "Python 3",
      "name": "python3"
    },
    "language_info": {
      "name": "python"
    }
  },
  "nbformat": 4,
  "nbformat_minor": 0
}