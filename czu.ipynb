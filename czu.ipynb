{
  "nbformat": 4,
  "nbformat_minor": 0,
  "metadata": {
    "colab": {
      "provenance": [],
      "authorship_tag": "ABX9TyOYY38PT2pgrs8OIDfYnuO9",
      "include_colab_link": true
    },
    "kernelspec": {
      "name": "python3",
      "display_name": "Python 3"
    },
    "language_info": {
      "name": "python"
    }
  },
  "cells": [
    {
      "cell_type": "markdown",
      "metadata": {
        "id": "view-in-github",
        "colab_type": "text"
      },
      "source": [
        "<a href=\"https://colab.research.google.com/github/Zahra-Ferdous/Thesis_Human_Action_Recognition_from_Depth_Video/blob/main/czu.ipynb\" target=\"_parent\"><img src=\"https://colab.research.google.com/assets/colab-badge.svg\" alt=\"Open In Colab\"/></a>"
      ]
    },
    {
      "cell_type": "code",
      "execution_count": 1,
      "metadata": {
        "colab": {
          "base_uri": "https://localhost:8080/"
        },
        "id": "RQ91Hn4T0mNO",
        "outputId": "b85bcff1-8015-4f06-96e4-1d69dfd841d4"
      },
      "outputs": [
        {
          "output_type": "stream",
          "name": "stdout",
          "text": [
            "Mounted at /content/drive\n"
          ]
        }
      ],
      "source": [
        "from google.colab import drive\n",
        "drive.mount('/content/drive')"
      ]
    },
    {
      "cell_type": "code",
      "source": [
        "import numpy as np\n",
        "import pandas as pd\n",
        "import random\n",
        "import matplotlib.pyplot as plt\n",
        "import seaborn as sns\n",
        "import torch\n",
        "import torch.nn\n",
        "import math\n",
        "%matplotlib inline\n",
        "import os\n",
        "import time\n",
        "\n",
        "from numba.core.cgutils import if_likely\n",
        "#from os.path import exists\n",
        "import os.path \n",
        "\n",
        "import cv2\n",
        "import sklearn\n",
        "import scipy.io as sio\n",
        "from numba import jit\n",
        "from math import factorial, log\n",
        "from sklearn.neighbors import KDTree\n",
        "from scipy.signal import periodogram, welch\n",
        "from astropy.timeseries import LombScargle\n",
        "from scipy.io import loadmat\n",
        "import re\n",
        "import itertools\n",
        "\n",
        "\n",
        "import imageio\n",
        "from skimage import feature\n",
        "\n",
        "\n",
        "from sklearn.model_selection import train_test_split\n",
        "from sklearn.metrics import classification_report, confusion_matrix"
      ],
      "metadata": {
        "id": "7mkf745O0zeQ"
      },
      "execution_count": 2,
      "outputs": []
    },
    {
      "cell_type": "markdown",
      "source": [
        "## For trialing purpose. Do not run these cells"
      ],
      "metadata": {
        "id": "D21GC2R4K2z3"
      }
    },
    {
      "cell_type": "code",
      "source": [
        "def spectral_entropy(x, sf=100, method='fft', nperseg=None, normalize=False,axis=-1):\n",
        "  \n",
        "    x = np.asarray(x)\n",
        "    #sf = np.array(sf, dtype=np.float64)\n",
        "    # Compute and normalize power spectrum\n",
        "    if method == 'fft':\n",
        "        _, psd = periodogram(x, sf, axis=axis)\n",
        "    elif method == 'welch':\n",
        "        _, psd = welch(x, sf, nperseg=nperseg, axis=axis)\n",
        "    psd_norm = psd / psd.sum(axis=axis, keepdims=True)\n",
        "    se = -(psd_norm * np.log2(psd_norm)).sum(axis=axis)\n",
        "    if normalize:\n",
        "        se /= np.log2(psd_norm.shape[axis])\n",
        "    return se"
      ],
      "metadata": {
        "id": "zKPtzXgL04HD"
      },
      "execution_count": 3,
      "outputs": []
    },
    {
      "cell_type": "code",
      "source": [
        "from astropy.utils.iers.iers import ScienceState\n",
        "path = '/content/drive/MyDrive/Colab Notebooks/CZU Sensor/'\n",
        "filename = 'cx_a1_t1'\n",
        "Sen = sio.loadmat(path+filename)"
      ],
      "metadata": {
        "id": "jSTUGApU3Hw8"
      },
      "execution_count": 17,
      "outputs": []
    },
    {
      "cell_type": "code",
      "source": [
        "sen = Sen['sensor']\n",
        "sen.shape\n",
        "sen0 = sen[0][0]\n",
        "sen0.shape\n",
        "sen1 = sen[1][0]\n",
        "sen1.shape"
      ],
      "metadata": {
        "colab": {
          "base_uri": "https://localhost:8080/"
        },
        "id": "MbXhPD0m37jU",
        "outputId": "941b863a-edfa-40f5-f5f4-c2a1ea12d7f1"
      },
      "execution_count": 12,
      "outputs": [
        {
          "output_type": "execute_result",
          "data": {
            "text/plain": [
              "(3471, 7)"
            ]
          },
          "metadata": {},
          "execution_count": 12
        }
      ]
    },
    {
      "cell_type": "code",
      "source": [
        "type(sen1)\n",
        "df = pd.DataFrame(sen1, columns = ['a_x','a_y','a_z','g_x','g_y','g_z','ts'])"
      ],
      "metadata": {
        "id": "6KDsH4Ks6AI9"
      },
      "execution_count": 14,
      "outputs": []
    },
    {
      "cell_type": "code",
      "source": [
        "df.head()"
      ],
      "metadata": {
        "colab": {
          "base_uri": "https://localhost:8080/",
          "height": 206
        },
        "id": "P803hvh67Z4H",
        "outputId": "11cc0979-a226-4331-c228-ddd6bcab5da1"
      },
      "execution_count": 15,
      "outputs": [
        {
          "output_type": "execute_result",
          "data": {
            "text/plain": [
              "        a_x       a_y       a_z       g_x       g_y       g_z            ts\n",
              "0 -0.074219 -0.996826  0.128418  3.660099 -0.854023 -0.488013  1.048094e+11\n",
              "1 -0.073486 -0.996582  0.130371  3.477094 -1.037028 -0.366010  1.048094e+11\n",
              "2 -0.074707 -0.996582  0.137451  3.233087 -0.610016 -0.305008  1.048094e+11\n",
              "3 -0.077637 -0.997803  0.134521  3.172086 -0.610016 -0.244007  1.048094e+11\n",
              "4 -0.080811 -0.999512  0.137939  3.111084 -0.549015 -0.366010  1.048094e+11"
            ],
            "text/html": [
              "\n",
              "  <div id=\"df-a371d9b8-e3fb-4b96-b373-b2a8931d2791\">\n",
              "    <div class=\"colab-df-container\">\n",
              "      <div>\n",
              "<style scoped>\n",
              "    .dataframe tbody tr th:only-of-type {\n",
              "        vertical-align: middle;\n",
              "    }\n",
              "\n",
              "    .dataframe tbody tr th {\n",
              "        vertical-align: top;\n",
              "    }\n",
              "\n",
              "    .dataframe thead th {\n",
              "        text-align: right;\n",
              "    }\n",
              "</style>\n",
              "<table border=\"1\" class=\"dataframe\">\n",
              "  <thead>\n",
              "    <tr style=\"text-align: right;\">\n",
              "      <th></th>\n",
              "      <th>a_x</th>\n",
              "      <th>a_y</th>\n",
              "      <th>a_z</th>\n",
              "      <th>g_x</th>\n",
              "      <th>g_y</th>\n",
              "      <th>g_z</th>\n",
              "      <th>ts</th>\n",
              "    </tr>\n",
              "  </thead>\n",
              "  <tbody>\n",
              "    <tr>\n",
              "      <th>0</th>\n",
              "      <td>-0.074219</td>\n",
              "      <td>-0.996826</td>\n",
              "      <td>0.128418</td>\n",
              "      <td>3.660099</td>\n",
              "      <td>-0.854023</td>\n",
              "      <td>-0.488013</td>\n",
              "      <td>1.048094e+11</td>\n",
              "    </tr>\n",
              "    <tr>\n",
              "      <th>1</th>\n",
              "      <td>-0.073486</td>\n",
              "      <td>-0.996582</td>\n",
              "      <td>0.130371</td>\n",
              "      <td>3.477094</td>\n",
              "      <td>-1.037028</td>\n",
              "      <td>-0.366010</td>\n",
              "      <td>1.048094e+11</td>\n",
              "    </tr>\n",
              "    <tr>\n",
              "      <th>2</th>\n",
              "      <td>-0.074707</td>\n",
              "      <td>-0.996582</td>\n",
              "      <td>0.137451</td>\n",
              "      <td>3.233087</td>\n",
              "      <td>-0.610016</td>\n",
              "      <td>-0.305008</td>\n",
              "      <td>1.048094e+11</td>\n",
              "    </tr>\n",
              "    <tr>\n",
              "      <th>3</th>\n",
              "      <td>-0.077637</td>\n",
              "      <td>-0.997803</td>\n",
              "      <td>0.134521</td>\n",
              "      <td>3.172086</td>\n",
              "      <td>-0.610016</td>\n",
              "      <td>-0.244007</td>\n",
              "      <td>1.048094e+11</td>\n",
              "    </tr>\n",
              "    <tr>\n",
              "      <th>4</th>\n",
              "      <td>-0.080811</td>\n",
              "      <td>-0.999512</td>\n",
              "      <td>0.137939</td>\n",
              "      <td>3.111084</td>\n",
              "      <td>-0.549015</td>\n",
              "      <td>-0.366010</td>\n",
              "      <td>1.048094e+11</td>\n",
              "    </tr>\n",
              "  </tbody>\n",
              "</table>\n",
              "</div>\n",
              "      <button class=\"colab-df-convert\" onclick=\"convertToInteractive('df-a371d9b8-e3fb-4b96-b373-b2a8931d2791')\"\n",
              "              title=\"Convert this dataframe to an interactive table.\"\n",
              "              style=\"display:none;\">\n",
              "        \n",
              "  <svg xmlns=\"http://www.w3.org/2000/svg\" height=\"24px\"viewBox=\"0 0 24 24\"\n",
              "       width=\"24px\">\n",
              "    <path d=\"M0 0h24v24H0V0z\" fill=\"none\"/>\n",
              "    <path d=\"M18.56 5.44l.94 2.06.94-2.06 2.06-.94-2.06-.94-.94-2.06-.94 2.06-2.06.94zm-11 1L8.5 8.5l.94-2.06 2.06-.94-2.06-.94L8.5 2.5l-.94 2.06-2.06.94zm10 10l.94 2.06.94-2.06 2.06-.94-2.06-.94-.94-2.06-.94 2.06-2.06.94z\"/><path d=\"M17.41 7.96l-1.37-1.37c-.4-.4-.92-.59-1.43-.59-.52 0-1.04.2-1.43.59L10.3 9.45l-7.72 7.72c-.78.78-.78 2.05 0 2.83L4 21.41c.39.39.9.59 1.41.59.51 0 1.02-.2 1.41-.59l7.78-7.78 2.81-2.81c.8-.78.8-2.07 0-2.86zM5.41 20L4 18.59l7.72-7.72 1.47 1.35L5.41 20z\"/>\n",
              "  </svg>\n",
              "      </button>\n",
              "      \n",
              "  <style>\n",
              "    .colab-df-container {\n",
              "      display:flex;\n",
              "      flex-wrap:wrap;\n",
              "      gap: 12px;\n",
              "    }\n",
              "\n",
              "    .colab-df-convert {\n",
              "      background-color: #E8F0FE;\n",
              "      border: none;\n",
              "      border-radius: 50%;\n",
              "      cursor: pointer;\n",
              "      display: none;\n",
              "      fill: #1967D2;\n",
              "      height: 32px;\n",
              "      padding: 0 0 0 0;\n",
              "      width: 32px;\n",
              "    }\n",
              "\n",
              "    .colab-df-convert:hover {\n",
              "      background-color: #E2EBFA;\n",
              "      box-shadow: 0px 1px 2px rgba(60, 64, 67, 0.3), 0px 1px 3px 1px rgba(60, 64, 67, 0.15);\n",
              "      fill: #174EA6;\n",
              "    }\n",
              "\n",
              "    [theme=dark] .colab-df-convert {\n",
              "      background-color: #3B4455;\n",
              "      fill: #D2E3FC;\n",
              "    }\n",
              "\n",
              "    [theme=dark] .colab-df-convert:hover {\n",
              "      background-color: #434B5C;\n",
              "      box-shadow: 0px 1px 3px 1px rgba(0, 0, 0, 0.15);\n",
              "      filter: drop-shadow(0px 1px 2px rgba(0, 0, 0, 0.3));\n",
              "      fill: #FFFFFF;\n",
              "    }\n",
              "  </style>\n",
              "\n",
              "      <script>\n",
              "        const buttonEl =\n",
              "          document.querySelector('#df-a371d9b8-e3fb-4b96-b373-b2a8931d2791 button.colab-df-convert');\n",
              "        buttonEl.style.display =\n",
              "          google.colab.kernel.accessAllowed ? 'block' : 'none';\n",
              "\n",
              "        async function convertToInteractive(key) {\n",
              "          const element = document.querySelector('#df-a371d9b8-e3fb-4b96-b373-b2a8931d2791');\n",
              "          const dataTable =\n",
              "            await google.colab.kernel.invokeFunction('convertToInteractive',\n",
              "                                                     [key], {});\n",
              "          if (!dataTable) return;\n",
              "\n",
              "          const docLinkHtml = 'Like what you see? Visit the ' +\n",
              "            '<a target=\"_blank\" href=https://colab.research.google.com/notebooks/data_table.ipynb>data table notebook</a>'\n",
              "            + ' to learn more about interactive tables.';\n",
              "          element.innerHTML = '';\n",
              "          dataTable['output_type'] = 'display_data';\n",
              "          await google.colab.output.renderOutput(dataTable, element);\n",
              "          const docLink = document.createElement('div');\n",
              "          docLink.innerHTML = docLinkHtml;\n",
              "          element.appendChild(docLink);\n",
              "        }\n",
              "      </script>\n",
              "    </div>\n",
              "  </div>\n",
              "  "
            ]
          },
          "metadata": {},
          "execution_count": 15
        }
      ]
    },
    {
      "cell_type": "markdown",
      "source": [
        "# Run from here"
      ],
      "metadata": {
        "id": "2uKH32ZvK_Sg"
      }
    },
    {
      "cell_type": "code",
      "source": [
        "def statf(df,c):\n",
        "    col = 'a_'+c\n",
        "    col1 = 'g_'+c\n",
        "    # acc\n",
        "    mean_a = df[col].mean()\n",
        "    var_a = df[col].var()\n",
        "    std_a = df[col].std()\n",
        "    mx_a = df[col].max()\n",
        "    mn_a = df[col].min()\n",
        "    rng_a = mx_a-mn_a\n",
        "    #mode = df[col].mode()\n",
        "    #n_z = ((df[col][:-1] * df[col][1:]) < 0).sum()\n",
        "    \n",
        "    #gyro\n",
        "    mean_g = df[col1].mean()\n",
        "    var_g = df[col1].var()\n",
        "    std_g = df[col1].std()\n",
        "    mx_g = df[col1].max()\n",
        "    mn_g = df[col1].min()\n",
        "    rng_g = mx_g-mn_g\n",
        "    \n",
        "    f_a=abs(np.fft.fft(df[col]))\n",
        "    f_g=abs(np.fft.fft(df[col1]))\n",
        "    num=df.shape[0]\n",
        "    \n",
        "    #fs=1./diff(t)\n",
        "    \n",
        "    freq = [i / num for i in list(range(num))]\n",
        "    \n",
        "    spectrum_a = f_a.real*f_a.real+f_a.imag*f_a.imag\n",
        "    dc_comp_a = spectrum_a[0]\n",
        "    spectrum_a = np.multiply(spectrum_a,spectrum_a)  # get the sectrum square\n",
        "    spec_energy_a = spectrum_a.sum()/num\n",
        "    \n",
        "    spectrum_g = f_g.real*f_g.real+f_g.imag*f_g.imag\n",
        "    dc_comp_g = spectrum_g[0]\n",
        "    spectrum_g = np.multiply(spectrum_g,spectrum_g)  # get the sectrum square\n",
        "    spec_energy_g = spectrum_g.sum()/num\n",
        "    \n",
        "    # spectral entropy\n",
        "    \n",
        "#     df['ts_shifted'] = df['ts'].shift(1)\n",
        "#     freq1=df['ts'] - df['ts_shifted']\n",
        "#     freq1 = freq1.dropna(axis = 0, how = 'all')\n",
        "\n",
        "    '''\n",
        "    tim = df['ts'][df.shape[0]-1] - df['ts'][0]\n",
        "    freq1 = df.shape[0]/tim\n",
        "    mean_freq = np.mean(freq1)\n",
        "    #mean_freq = 1/np.mean(freq1)\n",
        "    spec_entropy_a = spectral_entropy(df[col], mean_freq, method='fft', nperseg=None, normalize=False,axis=-1)\n",
        "    spec_entropy_g = spectral_entropy(df[col1], mean_freq, method='fft', nperseg=None, normalize=False,axis=-1)\n",
        "    '''\n",
        "    # poer spectral density using LombScargle Periodogram\n",
        "    \n",
        "    frequency_a, power_a = LombScargle(df['ts'], df[col]).autopower()\n",
        "\n",
        "    max_psd_a = np.max(power_a)\n",
        "    min_psd_a = np.min(power_a)\n",
        "    min_max_psd_a = min_psd_a/max_psd_a\n",
        "    \n",
        "    max_xas_a = np.sqrt(max_psd_a)\n",
        "    min_xas_a = np.sqrt(min_psd_a)\n",
        "    min_max_xas_a = min_xas_a/max_xas_a\n",
        "    \n",
        "    frequency_g, power_g = LombScargle(df['ts'], df[col1]).autopower()\n",
        "\n",
        "    max_psd_g = np.max(power_g)\n",
        "    min_psd_g = np.min(power_g)\n",
        "    min_max_psd_g = min_psd_g/max_psd_g\n",
        "    \n",
        "    max_xas_g = np.sqrt(max_psd_g)\n",
        "    min_xas_g = np.sqrt(min_psd_g)\n",
        "    min_max_xas_g = min_xas_g/max_xas_g\n",
        "\n",
        "    return np.array([mean_a ,var_a ,std_a ,mx_a ,mn_a ,rng_a ,dc_comp_a ,spec_energy_a, \n",
        "                     max_psd_a ,min_psd_a ,min_max_psd_a ,max_xas_a ,min_xas_a ,min_max_xas_a ,\n",
        "                    mean_g ,var_g ,std_g ,mx_g ,mn_g ,rng_g ,dc_comp_g ,spec_energy_g,\n",
        "                     max_psd_g ,min_psd_g ,min_max_psd_g ,max_xas_g ,min_xas_g ,min_max_xas_g ])\n",
        "    "
      ],
      "metadata": {
        "id": "4eXkpTi58Hcj"
      },
      "execution_count": 28,
      "outputs": []
    },
    {
      "cell_type": "code",
      "source": [
        "def sensor_feature_extraction(sen_matfile, selected_features):\n",
        "  #Sen = sio.loadmat(path+filename)['sensor']          # (10,0)\n",
        "  Sen = sen_matfile['sensor']\n",
        "  sen_pos = []\n",
        "  for sen_no in range(10):\n",
        "    sen = Sen[sen_no][0]                              # (no_of_rows , 7)\n",
        "\n",
        "    df = pd.DataFrame(sen, columns = ['a_x','a_y','a_z','g_x','g_y','g_z','ts'])\n",
        "\n",
        "    #----------------------------------------------------------------------------------------------\n",
        "    x = statf(df,'x')\n",
        "    y = statf(df,'y')\n",
        "    z = statf(df,'z')\n",
        "    df['a_m'] =  np.sqrt(df['a_x']*df['a_x']+df['a_y']*df['a_y']+df['a_z']*df['a_z'])\n",
        "    df['g_m'] =  np.sqrt(df['g_x']*df['g_x']+df['g_y']*df['g_y']+df['g_z']*df['g_z'])\n",
        "    m = statf(df,'m')\n",
        "    \n",
        "    sen_feat_i = np.concatenate((x, y, z, m), axis = 0)  \n",
        "    #print(f\"shape of individual sensor features = {sen_feat_i.shape}\")\n",
        "\n",
        "    if(sen_no==0):\n",
        "        sen_feat = sen_feat_i\n",
        "    else:\n",
        "        sen_feat = np.concatenate([sen_feat,sen_feat_i],axis=0)\n",
        "\n",
        "    #------------------------------------------------------------------------------------------------\n",
        "  #print(f\"shape of 10 sensor features = {sen_feat.shape}\")\n",
        "  #--------------------------------------------------------------------------------------------------\n",
        "  sen_names  = ['0_','1_','2_','3_','4_','5_','6_','7_','8_','9_']\n",
        "\n",
        "  col = ['mean','var','std','max','min','range','dc_comp','spec_energy','max_psd','min_psd','min_max_psd','max_xas','min_xas','min_max_xas']\n",
        "  axis = ['_a_x','_g_x','_a_y','_g_y','_a_z','_g_z','_a_m','_g_m']\n",
        "\n",
        "  col_name = []\n",
        "\n",
        "  for s in sen_names:\n",
        "      for x in axis:\n",
        "          for (c) in (col):\n",
        "              col_name.append(s+c+x)\n",
        "  #print(f\"number of overall features:{len(col_name)}\")\n",
        "\n",
        "  ser = pd.Series(sen_feat, index = col_name);\n",
        "\n",
        "  # return only the selected features\n",
        "  feature_list = ser[ser.index.isin(selected_features)]\n",
        "\n",
        "  return feature_list"
      ],
      "metadata": {
        "id": "_jMjKZUk4dCi"
      },
      "execution_count": 33,
      "outputs": []
    },
    {
      "cell_type": "code",
      "source": [
        "res = sensor_feature_extraction(Sen, ['0_mean_a_x','0_mean_g_y','9_min_max_xas_g_m'])"
      ],
      "metadata": {
        "id": "qWenzYXT_TcF"
      },
      "execution_count": 35,
      "outputs": []
    },
    {
      "cell_type": "code",
      "source": [
        "res.keys()"
      ],
      "metadata": {
        "colab": {
          "base_uri": "https://localhost:8080/"
        },
        "id": "LocDysyLKtUa",
        "outputId": "5a78676f-1020-4cb2-a65a-f61674dc4ed3"
      },
      "execution_count": 36,
      "outputs": [
        {
          "output_type": "execute_result",
          "data": {
            "text/plain": [
              "Index(['0_mean_a_x', '0_mean_g_y', '9_min_max_xas_g_m'], dtype='object')"
            ]
          },
          "metadata": {},
          "execution_count": 36
        }
      ]
    },
    {
      "cell_type": "code",
      "source": [
        "res"
      ],
      "metadata": {
        "colab": {
          "base_uri": "https://localhost:8080/"
        },
        "id": "IvHAWZSzKxdg",
        "outputId": "411ea682-3ae3-4037-cc18-c5b0b039ecbe"
      },
      "execution_count": 37,
      "outputs": [
        {
          "output_type": "execute_result",
          "data": {
            "text/plain": [
              "0_mean_a_x           0.084407\n",
              "0_mean_g_y          -1.097520\n",
              "9_min_max_xas_g_m    0.000045\n",
              "dtype: float64"
            ]
          },
          "metadata": {},
          "execution_count": 37
        }
      ]
    },
    {
      "cell_type": "markdown",
      "source": [
        "## For DMM Sobel"
      ],
      "metadata": {
        "id": "0djzCTWYMTVh"
      }
    },
    {
      "cell_type": "code",
      "source": [
        "def masked(img):\n",
        "  x = np.logical_and((img>=70), (img<=90)).astype(int)\n",
        "  return x\n",
        "\n",
        "#sobel \n",
        "skernelx = np.array([[1,2,1],[0,0,0],[-1,-2,-1]])\n",
        "skernely = np.array([[-1,0,1],[-2,0,2],[-1,0,1]])\n",
        "\n",
        "def sobel_filtered_x(d):\n",
        "  #d = masked(d)\n",
        "  d = d.astype('float32')\n",
        "  im = cv2.resize(d, dsize=(227,227))\n",
        "  \n",
        "  imx = cv2.filter2D(im, -1, skernelx)\n",
        "  \n",
        "  return imx\n",
        "\n",
        "def get_dmm(d,ch='s'):   # param: a \n",
        "\n",
        "  start = time.time()\n",
        "\n",
        "  dep, ht, wd = d.shape\n",
        "  F = np.zeros((227,227))\n",
        "\n",
        "  for i in range(dep):\n",
        "\n",
        "    im = np.array(d[i])\n",
        "    im = cv2.resize(im, dsize=(227,227))\n",
        "    im = masked(im)\n",
        "    \n",
        "    im = sobel_filtered_x(im)\n",
        "    if(i>0):\n",
        "      F = np.add( F, np.absolute( np.subtract( im, front_pre ) ) )\n",
        "    \n",
        "    front_pre = im\n",
        "\n",
        "  end = time.time()\n",
        "  el_time = end - start\n",
        "  print('dmm time')\n",
        "  print(el_time)\n",
        "\n",
        "  return F"
      ],
      "metadata": {
        "id": "txVTYvXvMS9d"
      },
      "execution_count": 49,
      "outputs": []
    },
    {
      "cell_type": "code",
      "source": [
        "def depth_map_preprocess(d_mat):\n",
        "  d = d_mat['depth']\n",
        "  frame, h, w = d.shape\n",
        "  print(f\"earlier shape = {d.shape}\")\n",
        "  if (frame < 100) :\n",
        "    d = np.concatenate(( d, d[:(100-frame)] ), axis=0)\n",
        "\n",
        "  #frame = d.shape[0]\n",
        "  res = []\n",
        "  print(f\"later shape = {d.shape}\")\n",
        "  for k in range(0,100,4):\n",
        "    res.append(np.array(d[k][50:350,100:400]))\n",
        "    #d[k] = cv2.resize(d[k], dsize=(227,227))\n",
        "  res = np.array(res)\n",
        "  dmm = get_dmm(res,'s')\n",
        "  return dmm\n",
        "  # [50:350,100:400]"
      ],
      "metadata": {
        "id": "MKaEUdZyQ0GU"
      },
      "execution_count": 54,
      "outputs": []
    },
    {
      "cell_type": "code",
      "source": [
        "path = '/content/drive/MyDrive/CZU-MHAD/depth_mat/cx_a10_t1.mat'\n",
        "d_mat = sio.loadmat(path)\n",
        "dmm = depth_map_preprocess(d_mat)"
      ],
      "metadata": {
        "colab": {
          "base_uri": "https://localhost:8080/"
        },
        "id": "F-9ZNM4GeT1_",
        "outputId": "3995c5f6-ce70-478c-9066-bb4d03213fbf"
      },
      "execution_count": 55,
      "outputs": [
        {
          "output_type": "stream",
          "name": "stdout",
          "text": [
            "earlier shape = (132, 424, 512)\n",
            "later shape = (132, 424, 512)\n",
            "dmm time\n",
            "0.008897781372070312\n"
          ]
        }
      ]
    },
    {
      "cell_type": "code",
      "source": [
        "plt.imshow(dmm,interpolation = 'nearest')\n",
        "plt.show()"
      ],
      "metadata": {
        "colab": {
          "base_uri": "https://localhost:8080/",
          "height": 269
        },
        "id": "UpPhTkC6gIvu",
        "outputId": "0cb08c4d-e0a6-48a0-a6b8-14f2e90f5878"
      },
      "execution_count": 56,
      "outputs": [
        {
          "output_type": "display_data",
          "data": {
            "text/plain": [
              "<Figure size 432x288 with 1 Axes>"
            ],
            "image/png": "[encoded data removed]"
          },
          "metadata": {
            "needs_background": "light"
          }
        }
      ]
    },
    {
      "cell_type": "code",
      "source": [
        "dmm.shape\n"
      ],
      "metadata": {
        "colab": {
          "base_uri": "https://localhost:8080/"
        },
        "id": "qNrBl5Mejzzy",
        "outputId": "ac400414-ac53-4230-e2e3-5f1e6480da14"
      },
      "execution_count": 57,
      "outputs": [
        {
          "output_type": "execute_result",
          "data": {
            "text/plain": [
              "(227, 227)"
            ]
          },
          "metadata": {},
          "execution_count": 57
        }
      ]
    }
  ]
}