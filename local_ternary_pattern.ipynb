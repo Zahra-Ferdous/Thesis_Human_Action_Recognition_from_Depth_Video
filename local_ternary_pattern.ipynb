{
  "nbformat": 4,
  "nbformat_minor": 0,
  "metadata": {
    "colab": {
      "provenance": [],
      "authorship_tag": "ABX9TyP1MtbNjha96EBdzVJ7IvS5",
      "include_colab_link": true
    },
    "kernelspec": {
      "name": "python3",
      "display_name": "Python 3"
    },
    "language_info": {
      "name": "python"
    }
  },
  "cells": [
    {
      "cell_type": "markdown",
      "metadata": {
        "id": "view-in-github",
        "colab_type": "text"
      },
      "source": [
        "<a href=\"https://colab.research.google.com/github/Zahra-Ferdous/Thesis_Human_Action_Recognition_from_Depth_Video/blob/main/local_ternary_pattern.ipynb\" target=\"_parent\"><img src=\"https://colab.research.google.com/assets/colab-badge.svg\" alt=\"Open In Colab\"/></a>"
      ]
    },
    {
      "cell_type": "code",
      "execution_count": 3,
      "metadata": {
        "colab": {
          "base_uri": "https://localhost:8080/"
        },
        "id": "6QILOdJaK01M",
        "outputId": "dcda823d-2a9c-45ab-829d-de26288deb5b"
      },
      "outputs": [
        {
          "output_type": "stream",
          "name": "stdout",
          "text": [
            "Mounted at /content/drive\n"
          ]
        }
      ],
      "source": [
        "from google.colab import drive\n",
        "drive.mount('/content/drive')"
      ]
    },
    {
      "cell_type": "code",
      "source": [
        "import numpy as np\n",
        "import pandas as pd\n",
        "import random\n",
        "import matplotlib.pyplot as plt\n",
        "import seaborn as sns\n",
        "import torch\n",
        "import torch.nn\n",
        "import math\n",
        "%matplotlib inline\n",
        "import os\n",
        "import time\n",
        "\n",
        "from numba.core.cgutils import if_likely\n",
        "#from os.path import exists\n",
        "import os.path \n",
        "\n",
        "import cv2\n",
        "import sklearn\n",
        "import scipy.io as sio\n",
        "from numba import jit\n",
        "from math import factorial, log\n",
        "from sklearn.neighbors import KDTree\n",
        "from scipy.signal import periodogram, welch\n",
        "from astropy.timeseries import LombScargle\n",
        "from scipy.io import loadmat\n",
        "\n",
        "\n",
        "import imageio\n",
        "from skimage import feature"
      ],
      "metadata": {
        "id": "nNJpReOeMUbz"
      },
      "execution_count": 4,
      "outputs": []
    },
    {
      "cell_type": "code",
      "source": [
        "def get_dmm(d):\n",
        "  dep, ht, wd = d.shape\n",
        "  F = np.zeros((ht, wd))\n",
        "\n",
        "  for i in range(dep):\n",
        "    \n",
        "      front = d[i,:,:]\n",
        "\n",
        "      if(i>0):\n",
        "        F = np.add( F, np.absolute( np.subtract( front, front_pre ) ) )\n",
        "\n",
        "      front_pre = front\n",
        "\n",
        "  return F"
      ],
      "metadata": {
        "id": "ZMBEDYQGMhNv"
      },
      "execution_count": 8,
      "outputs": []
    },
    {
      "cell_type": "code",
      "source": [
        "\"\"\" \n",
        "Center Symmetric Local Ternary Pattern \n",
        "Code might contain bugs\n",
        "\"\"\"\n",
        "\n",
        "from tqdm import tqdm\n",
        "import numpy as np\n",
        "\n",
        "def sigmoid(x):\n",
        "\n",
        "\tif x > 3:\n",
        "\t\treturn 2\n",
        "\telif x < -3:\n",
        "\t\treturn 1\n",
        "\telse:\n",
        "\t\treturn 0 \n",
        "\n",
        "def get_csLTP(images, img_height, img_width):\n",
        "\n",
        "\tzeroHorizontal = np.zeros(img_width + 2).reshape(1, img_width + 2)\n",
        "\tzeroVertical = np.zeros(img_height).reshape(img_height, 1)\n",
        "\n",
        "\tfeatures = []\n",
        "\n",
        "\tfor img in tqdm(images):\n",
        "\n",
        "\t\timg = np.concatenate((img, zeroVertical), axis = 1)\n",
        "\t\timg = np.concatenate((zeroVertical, img), axis = 1)\n",
        "\t\timg = np.concatenate((zeroHorizontal, img), axis = 0)\n",
        "\t\timg = np.concatenate((img, zeroHorizontal), axis = 0)\n",
        "\n",
        "\t\tpattern_img = np.zeros((img_height + 1, img_width + 1))\n",
        "\t\t\n",
        "\t\tfor x in range(1, img_height + 1):\n",
        "\t\t\tfor y in range(1, img_width + 1):\n",
        "\t\t\t\t\n",
        "\t\t\t\ts1 = sigmoid(img[x-2, y-2] - img[x+2, y+2])\n",
        "\t\t\t\ts3 = sigmoid(img[x-2, y+2] - img[x+2, y-2])*3\n",
        "\t\t\n",
        "\t\t\t\ts = s1 + s3\n",
        "\t\t\t\n",
        "\t\t\t\tpattern_img[x, y] = s\n",
        "\n",
        "\t\tpattern_img = pattern_img[1:(img_height+1), 1:(img_width+1)].astype(int) \t\n",
        "\t\thistogram = np.histogram(pattern_img, bins = np.arange(17))[0]\n",
        "\t\thistogram = histogram.reshape(1, -1)\n",
        "\n",
        "\t\tfeatures.append(histogram)\n",
        "\n",
        "\tfeatures = np.concatenate(features, axis = 0)\n",
        "\n",
        "\treturn features"
      ],
      "metadata": {
        "id": "JZHqkl9MK--X"
      },
      "execution_count": 6,
      "outputs": []
    },
    {
      "cell_type": "code",
      "source": [
        "\"\"\" Extended Center Symmetric Local Ternary Pattern \"\"\"\n",
        "\n",
        "from tqdm import tqdm\n",
        "import numpy as np\n",
        "\n",
        "def heaviside(x, y):\n",
        "\t\n",
        "\tif x > 3 and y > 3:\n",
        "\t\treturn 2\n",
        "\telif x < -3 and y < -3:\n",
        "\t\treturn 1\n",
        "\telse:\n",
        "\t\treturn 0\n",
        "\n",
        "def get_xcsLTP(images, img_height, img_width):\n",
        "\n",
        "\tzeroHorizontal = np.zeros(img_width + 2).reshape(1, img_width + 2)\n",
        "\tzeroVertical = np.zeros(img_height).reshape(img_height, 1)\n",
        "\n",
        "\tfeatures = []\n",
        "\n",
        "\tfor img in tqdm(images):\n",
        "\n",
        "\t\timg = np.concatenate((img, zeroVertical), axis = 1)\n",
        "\t\timg = np.concatenate((zeroVertical, img), axis = 1)\n",
        "\t\timg = np.concatenate((zeroHorizontal, img), axis = 0)\n",
        "\t\timg = np.concatenate((img, zeroHorizontal), axis = 0)\n",
        "\n",
        "\t\tpattern_img = np.zeros((img_height + 1, img_width + 1))\n",
        "\t\t\n",
        "\t\tfor x in range(1, img_height + 1):\n",
        "\t\t\tfor y in range(1, img_width + 1): \n",
        "\n",
        "\t\t\t\ts1 = heaviside(img[x-1, y-1]-img[x, y], img[x, y]-img[x+1, y+1]) \n",
        "\t\t\t\ts3 = heaviside(img[x-1, y+1]-img[x, y], img[x, y]-img[x+1, y-1])*3\n",
        "\t\t\t\t\n",
        "\t\t\t\ts = s1 + s3\n",
        "\n",
        "\t\t\t\tpattern_img[x, y] = s\n",
        "\n",
        "\t\tpattern_img = pattern_img[1:(img_height+1), 1:(img_width+1)].astype(int) \t\t\n",
        "\t\thistogram = np.histogram(pattern_img, bins = np.arange(17))[0]\n",
        "\t\thistogram = histogram.reshape(1, -1)\n",
        "\n",
        "\t\tfeatures.append(histogram)\n",
        "\n",
        "\tfeatures = np.concatenate(features, axis = 0)\n",
        "\n",
        "\treturn features"
      ],
      "metadata": {
        "id": "ncptQQUAK_Sw"
      },
      "execution_count": 21,
      "outputs": []
    },
    {
      "cell_type": "code",
      "source": [
        "# def get_ltp(img):\n",
        "#   zeroHorizontal = np.zeros(img.shape[1] + 2).reshape(1, img.shape[1] + 2)\n",
        "# \tzeroVertical = np.zeros(img.shape[0]).reshape(img.shape[0], 1)\n",
        " "
      ],
      "metadata": {
        "id": "GVoNjkukTnWE"
      },
      "execution_count": null,
      "outputs": []
    },
    {
      "cell_type": "code",
      "source": [
        "path = '/content/drive/MyDrive/Colab Notebooks Copy Old/utd mhad depth/Depth'\n",
        "\n",
        "cnt = 0\n",
        "cmt = 0\n",
        "\n",
        "f_dmm = []\n",
        "\n",
        "for file in os.listdir(path):\n",
        "    if file.endswith('.mat'):\n",
        "      cnt+=1\n",
        "      if(cnt==12):\n",
        "        break\n",
        "      d = sio.loadmat(path+'/'+file)['d_depth']\n",
        "      d = np.transpose(d, (2, 0, 1))\n",
        "      print(d.shape)\n",
        "      front = get_dmm(d)\n",
        "      print(front.shape)\n",
        "      f_dmm.append(front)\n",
        "      \n",
        "ltp = get_xcsLTP(f_dmm, front.shape[0],front.shape[1])\n",
        "print(ltp.shape)\n"
      ],
      "metadata": {
        "colab": {
          "base_uri": "https://localhost:8080/"
        },
        "id": "J2Rnk3_4QcDR",
        "outputId": "95445d69-a2dd-4e3c-e2b1-840129fb0b1f"
      },
      "execution_count": 22,
      "outputs": [
        {
          "output_type": "stream",
          "name": "stdout",
          "text": [
            "(48, 240, 320)\n",
            "(240, 320)\n",
            "(52, 240, 320)\n",
            "(240, 320)\n",
            "(53, 240, 320)\n",
            "(240, 320)\n",
            "(61, 240, 320)\n",
            "(240, 320)\n",
            "(61, 240, 320)\n",
            "(240, 320)\n",
            "(54, 240, 320)\n",
            "(240, 320)\n",
            "(54, 240, 320)\n",
            "(240, 320)\n",
            "(55, 240, 320)\n",
            "(240, 320)\n",
            "(72, 240, 320)\n",
            "(240, 320)\n",
            "(72, 240, 320)\n",
            "(240, 320)\n",
            "(69, 240, 320)\n",
            "(240, 320)\n"
          ]
        },
        {
          "output_type": "stream",
          "name": "stderr",
          "text": [
            "100%|██████████| 11/11 [00:02<00:00,  3.95it/s]"
          ]
        },
        {
          "output_type": "stream",
          "name": "stdout",
          "text": [
            "(11, 16)\n"
          ]
        },
        {
          "output_type": "stream",
          "name": "stderr",
          "text": [
            "\n"
          ]
        }
      ]
    },
    {
      "cell_type": "code",
      "source": [
        "print(ltp)"
      ],
      "metadata": {
        "colab": {
          "base_uri": "https://localhost:8080/"
        },
        "id": "pnoQf7D8Rbp6",
        "outputId": "f9e3423e-391c-46f4-c3d1-917bc018f798"
      },
      "execution_count": 23,
      "outputs": [
        {
          "output_type": "stream",
          "name": "stdout",
          "text": [
            "[[72896   632   648   649   176   382   770   488   159     0     0     0\n",
            "      0     0     0     0]\n",
            " [72909   624   589   712   172   414   739   460   181     0     0     0\n",
            "      0     0     0     0]\n",
            " [73056   628   593   604   163   410   712   451   183     0     0     0\n",
            "      0     0     0     0]\n",
            " [72797   681   633   690   149   412   797   487   154     0     0     0\n",
            "      0     0     0     0]\n",
            " [72828   664   678   629   186   457   712   478   168     0     0     0\n",
            "      0     0     0     0]\n",
            " [72782   709   663   680   179   495   703   443   146     0     0     0\n",
            "      0     0     0     0]\n",
            " [72856   701   639   706   181   431   682   449   155     0     0     0\n",
            "      0     0     0     0]\n",
            " [72853   686   682   649   214   448   666   437   165     0     0     0\n",
            "      0     0     0     0]\n",
            " [72363   703   764   743   217   548   703   559   200     0     0     0\n",
            "      0     0     0     0]\n",
            " [72341   728   745   770   230   475   734   557   220     0     0     0\n",
            "      0     0     0     0]\n",
            " [72460   667   741   775   227   518   736   480   196     0     0     0\n",
            "      0     0     0     0]]\n"
          ]
        }
      ]
    }
  ]
}